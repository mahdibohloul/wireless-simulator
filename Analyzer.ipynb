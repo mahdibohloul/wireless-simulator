{
 "cells": [
  {
   "cell_type": "code",
   "execution_count": 37,
   "outputs": [],
   "source": [
    "import re"
   ],
   "metadata": {
    "collapsed": false,
    "pycharm": {
     "name": "#%%\n"
    }
   }
  },
  {
   "cell_type": "code",
   "execution_count": 42,
   "outputs": [],
   "source": [
    "def analyze_file(bdw, error_rate, index):\n",
    "    simulate_time = 100\n",
    "    rcv_count = 0\n",
    "    send_count = 0\n",
    "    packet_sum = 0\n",
    "    start_times = {}\n",
    "    delay_sum = 0\n",
    "    file_name = f'{base_epoch_name}_{index}_{bdw}/rts-data-ack.tr'\n",
    "    with open(file_name, 'r') as f:\n",
    "        lines = f.read().split('\\n')\n",
    "        for line in lines:\n",
    "            logs = re.split(' |\\t', line)\n",
    "            if logs[0] == 's' and (logs[2] == '_1_' or logs[2] == '_2_') and logs[3] == 'AGT' and logs[7] == 'cbr':\n",
    "                send_count += 1\n",
    "                start_times[logs[6]] = float(logs[1])\n",
    "            elif logs[0] == 'r' and (logs[2] == '_7_' or logs[2] == '_8_') and logs[3] == 'AGT' and logs[7] == 'cbr':\n",
    "                rcv_count += 1\n",
    "                packet_sum += float(logs[8])\n",
    "                delay_sum += float(logs[1]) - start_times[logs[6]]\n",
    "        throughput = packet_sum / simulate_time\n",
    "        pdr = rcv_count / send_count\n",
    "        delay = delay_sum / rcv_count\n",
    "        print(\n",
    "            f'Result-> Bandwidth: {bdw}, Error Rate: {error_rate}, Throughput: {throughput}, PDR: {pdr}, Delay: {delay}')\n"
   ],
   "metadata": {
    "collapsed": false,
    "pycharm": {
     "name": "#%%\n"
    }
   }
  },
  {
   "cell_type": "code",
   "execution_count": 43,
   "outputs": [
    {
     "name": "stdout",
     "output_type": "stream",
     "text": [
      "Result-> Bandwidth: 1.5, Error Rate: 0.001, Throughput: 29121.68, PDR: 0.5605160761826746, Delay: 1.7882034029320488\n",
      "Result-> Bandwidth: 55, Error Rate: 0.001, Throughput: 29121.68, PDR: 0.5605160761826746, Delay: 1.7882034029320488\n",
      "Result-> Bandwidth: 155, Error Rate: 0.001, Throughput: 29121.68, PDR: 0.5605160761826746, Delay: 1.7882034029320488\n",
      "Result-> Bandwidth: 1.5, Error Rate: 0.002, Throughput: 28871.64, PDR: 0.5557034609870981, Delay: 1.8107093467038906\n",
      "Result-> Bandwidth: 55, Error Rate: 0.002, Throughput: 28871.64, PDR: 0.5557034609870981, Delay: 1.8107093467038906\n",
      "Result-> Bandwidth: 155, Error Rate: 0.002, Throughput: 28871.64, PDR: 0.5557034609870981, Delay: 1.8107093467038906\n",
      "Result-> Bandwidth: 1.5, Error Rate: 0.003, Throughput: 28759.92, PDR: 0.5535531435592873, Delay: 1.7761493623509004\n",
      "Result-> Bandwidth: 55, Error Rate: 0.003, Throughput: 28759.92, PDR: 0.5535531435592873, Delay: 1.7761493623509004\n",
      "Result-> Bandwidth: 155, Error Rate: 0.003, Throughput: 28759.92, PDR: 0.5535531435592873, Delay: 1.7761493623509004\n",
      "Result-> Bandwidth: 1.5, Error Rate: 0.004, Throughput: 28541.8, PDR: 0.5493549047716567, Delay: 1.81792413740578\n",
      "Result-> Bandwidth: 55, Error Rate: 0.004, Throughput: 28541.8, PDR: 0.5493549047716567, Delay: 1.81792413740578\n",
      "Result-> Bandwidth: 155, Error Rate: 0.004, Throughput: 28541.8, PDR: 0.5493549047716567, Delay: 1.81792413740578\n",
      "Result-> Bandwidth: 1.5, Error Rate: 0.005, Throughput: 28265.16, PDR: 0.5440303092361254, Delay: 1.8112431156066213\n",
      "Result-> Bandwidth: 55, Error Rate: 0.005, Throughput: 28265.16, PDR: 0.5440303092361254, Delay: 1.8112431156066213\n",
      "Result-> Bandwidth: 155, Error Rate: 0.005, Throughput: 28265.16, PDR: 0.5440303092361254, Delay: 1.8112431156066213\n",
      "Result-> Bandwidth: 1.5, Error Rate: 0.006, Throughput: 28105.56, PDR: 0.5409584271963956, Delay: 1.681518538185496\n",
      "Result-> Bandwidth: 55, Error Rate: 0.006, Throughput: 28105.56, PDR: 0.5409584271963956, Delay: 1.681518538185496\n",
      "Result-> Bandwidth: 155, Error Rate: 0.006, Throughput: 28105.56, PDR: 0.5409584271963956, Delay: 1.681518538185496\n",
      "Result-> Bandwidth: 1.5, Error Rate: 0.007, Throughput: 27908.72, PDR: 0.5371697726807291, Delay: 1.6831608140019079\n",
      "Result-> Bandwidth: 55, Error Rate: 0.007, Throughput: 27908.72, PDR: 0.5371697726807291, Delay: 1.6831608140019079\n",
      "Result-> Bandwidth: 155, Error Rate: 0.007, Throughput: 27908.72, PDR: 0.5371697726807291, Delay: 1.6831608140019079\n",
      "Result-> Bandwidth: 1.5, Error Rate: 0.008, Throughput: 27658.68, PDR: 0.5323571574851526, Delay: 1.5717090282969812\n",
      "Result-> Bandwidth: 55, Error Rate: 0.008, Throughput: 27658.68, PDR: 0.5323571574851526, Delay: 1.5717090282969812\n",
      "Result-> Bandwidth: 155, Error Rate: 0.008, Throughput: 27658.68, PDR: 0.5323571574851526, Delay: 1.5717090282969812\n",
      "Result-> Bandwidth: 1.5, Error Rate: 0.009, Throughput: 27504.4, PDR: 0.5293876715134139, Delay: 1.7198867865141194\n",
      "Result-> Bandwidth: 55, Error Rate: 0.009, Throughput: 27504.4, PDR: 0.5293876715134139, Delay: 1.7198867865141194\n",
      "Result-> Bandwidth: 155, Error Rate: 0.009, Throughput: 27504.4, PDR: 0.5293876715134139, Delay: 1.7198867865141194\n",
      "Result-> Bandwidth: 1.5, Error Rate: 0.01, Throughput: 27265.0, PDR: 0.5247798484538194, Delay: 1.6154970806216602\n",
      "Result-> Bandwidth: 55, Error Rate: 0.01, Throughput: 27265.0, PDR: 0.5247798484538194, Delay: 1.6154970806216602\n",
      "Result-> Bandwidth: 155, Error Rate: 0.01, Throughput: 27265.0, PDR: 0.5247798484538194, Delay: 1.6154970806216602\n"
     ]
    }
   ],
   "source": [
    "base_epoch_name = 'epoch'\n",
    "bandwidths = [1.5, 55, 155]\n",
    "error_rates = [0.001, 0.002, 0.003, 0.004, 0.005, 0.006, 0.007, 0.008, 0.009, 0.01]\n",
    "\n",
    "for i in range(len(error_rates)):\n",
    "    for j in bandwidths:\n",
    "        analyze_file(j, error_rates[i], i)\n"
   ],
   "metadata": {
    "collapsed": false,
    "pycharm": {
     "name": "#%%\n"
    }
   }
  }
 ],
 "metadata": {
  "kernelspec": {
   "display_name": "Python 3 (ipykernel)",
   "language": "python",
   "name": "python3"
  },
  "language_info": {
   "codemirror_mode": {
    "name": "ipython",
    "version": 3
   },
   "file_extension": ".py",
   "mimetype": "text/x-python",
   "name": "python",
   "nbconvert_exporter": "python",
   "pygments_lexer": "ipython3",
   "version": "3.8.10"
  }
 },
 "nbformat": 4,
 "nbformat_minor": 5
}